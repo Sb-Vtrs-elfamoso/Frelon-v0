{
 "cells": [
  {
   "cell_type": "markdown",
   "metadata": {},
   "source": [
    "# MobileNet fine-tuning on dataset"
   ]
  },
  {
   "cell_type": "code",
   "execution_count": 1,
   "metadata": {},
   "outputs": [],
   "source": [
    "import os\n",
    "from pathlib import Path\n",
    "from typing import Tuple, List, Dict, Any\n",
    "\n",
    "import tensorflow as tf\n",
    "import numpy as np\n",
    "import matplotlib.pyplot as plt\n"
   ]
  },
  {
   "cell_type": "code",
   "execution_count": 2,
   "metadata": {},
   "outputs": [],
   "source": [
    "# Load the .npz file\n",
    "data_train = np.load('hornet-bees-2/train_frelon.npz', allow_pickle=True)\n",
    "X_train = data_train['X']\n",
    "y_train = data_train['y']\n",
    "\n",
    "data_val = np.load('hornet-bees-2/val_frelon.npz', allow_pickle=True)\n",
    "X_val = data_val['X'] \n",
    "y_val = data_val['y']\n",
    "\n",
    "data_test = np.load('hornet-bees-2/test_frelon.npz', allow_pickle=True)\n",
    "X_test = data_test['X']\n",
    "y_test = data_test['y']"
   ]
  },
  {
   "cell_type": "code",
   "execution_count": 3,
   "metadata": {},
   "outputs": [],
   "source": [
    "# Preprocess the data\n",
    "def preprocess_data(X):\n",
    "    # Normalize the images\n",
    "    X = X / 255.0\n",
    "    return X\n",
    "\n",
    "# Preprocess the datasets\n",
    "X_train = preprocess_data(X_train)\n",
    "X_val = preprocess_data(X_val)\n",
    "X_test = preprocess_data(X_test)"
   ]
  },
  {
   "cell_type": "code",
   "execution_count": 5,
   "metadata": {},
   "outputs": [],
   "source": [
    "# Convert labels to arrays with consistent shapes\n",
    "def format_labels(y):\n",
    "    boxes = [entry['boxes'] for entry in y]  # Keep as a list due to varying shapes\n",
    "    class_ids = [entry['class_ids'] for entry in y]  # Keep as a list due to varying shapes\n",
    "    return boxes, class_ids\n",
    "\n",
    "y_train_boxes, y_train_classes = format_labels(y_train)\n",
    "y_val_boxes, y_val_classes = format_labels(y_val)\n",
    "y_test_boxes, y_test_classes = format_labels(y_test)"
   ]
  },
  {
   "cell_type": "code",
   "execution_count": 6,
   "metadata": {},
   "outputs": [],
   "source": [
    "# Define the model\n",
    "base_model = tf.keras.applications.MobileNetV2(input_shape=(224, 224, 3), include_top=False, weights='imagenet', alpha=0.35)\n",
    "base_model.trainable = False\n",
    "\n",
    "inputs = tf.keras.layers.Input(shape=(416, 416, 3))\n",
    "resized_inputs = tf.keras.layers.Resizing(224, 224)(inputs)\n",
    "normalized_inputs = resized_inputs / 255.0\n",
    "x = tf.keras.applications.mobilenet_v2.preprocess_input(normalized_inputs)\n",
    "x = base_model(x, training=False)\n",
    "x = tf.keras.layers.GlobalAveragePooling2D()(x)\n",
    "\n",
    "boxes_output = tf.keras.layers.Dense(4, name='boxes')(x)\n",
    "classes_output = tf.keras.layers.Dense(1, activation='sigmoid', name='class_ids')(x)\n",
    "\n",
    "model = tf.keras.Model(inputs=inputs, outputs=[boxes_output, classes_output])\n",
    "model.compile(\n",
    "    optimizer=tf.keras.optimizers.Adam(learning_rate=0.0001),\n",
    "    loss={\n",
    "        'boxes': 'mean_squared_error',\n",
    "        'class_ids': 'binary_crossentropy'\n",
    "    },\n",
    "    metrics={\n",
    "        'boxes': 'mae',\n",
    "        'class_ids': 'accuracy'\n",
    "    }\n",
    ")"
   ]
  },
  {
   "cell_type": "code",
   "execution_count": null,
   "metadata": {},
   "outputs": [],
   "source": [
    "# Pad the labels to ensure consistent lengths\n",
    "def pad_labels(labels, max_boxes=10):\n",
    "    padded_boxes = []\n",
    "    padded_classes = []\n",
    "    for entry in labels:\n",
    "        boxes = entry['boxes']\n",
    "        class_ids = entry['class_ids']\n",
    "        # Handle empty boxes or class_ids\n",
    "        if len(boxes) == 0:\n",
    "            padded_boxes.append(np.zeros((max_boxes, 4), dtype=np.float32))\n",
    "        else:\n",
    "            padded_boxes.append(np.pad(boxes, ((0, max_boxes - len(boxes)), (0, 0)), mode='constant') if len(boxes) < max_boxes else boxes[:max_boxes])\n",
    "        \n",
    "        if len(class_ids) == 0:\n",
    "            padded_classes.append(np.zeros((max_boxes,), dtype=np.float32))\n",
    "        else:\n",
    "            padded_classes.append(np.pad(class_ids, (0, max_boxes - len(class_ids)), mode='constant') if len(class_ids) < max_boxes else class_ids[:max_boxes])\n",
    "    return np.array(padded_boxes), np.array(padded_classes)\n",
    "\n",
    "# Pad the training and validation labels\n",
    "y_train_boxes_padded, y_train_classes_padded = pad_labels(y_train)\n",
    "y_val_boxes_padded, y_val_classes_padded = pad_labels(y_val)\n",
    "\n",
    "# Train the model\n",
    "history = model.fit(\n",
    "    X_train,\n",
    "    {'boxes': y_train_boxes_padded, 'class_ids': y_train_classes_padded},\n",
    "    validation_data=(X_val, {'boxes': y_val_boxes_padded, 'class_ids': y_val_classes_padded}),\n",
    "    epochs=10,\n",
    "    batch_size=32\n",
    ")"
   ]
  },
  {
   "cell_type": "code",
   "execution_count": null,
   "metadata": {},
   "outputs": [
    {
     "ename": "ValueError",
     "evalue": "Data cardinality is ambiguous. Make sure all arrays contain the same number of samples.'x' sizes: 55\n'y' sizes: 1, 0, 0, 1, 0, 0, 2, 2, 1, 0, 1, 1, 1, 0, 1, 0, 1, 1, 1, 1, 1, 2, 0, 1, 2, 1, 1, 1, 2, 1, 1, 1, 0, 1, 1, 1, 1, 1, 1, 1, 1, 2, 1, 0, 1, 1, 1, 1, 1, 1, 1, 2, 2, 1, 1, 1, 0, 0, 1, 0, 0, 2, 2, 1, 0, 1, 1, 1, 0, 1, 0, 1, 1, 1, 1, 1, 2, 0, 1, 2, 1, 1, 1, 2, 1, 1, 1, 0, 1, 1, 1, 1, 1, 1, 1, 1, 2, 1, 0, 1, 1, 1, 1, 1, 1, 1, 2, 2, 1, 1\n",
     "output_type": "error",
     "traceback": [
      "\u001b[1;31m---------------------------------------------------------------------------\u001b[0m",
      "\u001b[1;31mValueError\u001b[0m                                Traceback (most recent call last)",
      "Cell \u001b[1;32mIn[8], line 2\u001b[0m\n\u001b[0;32m      1\u001b[0m \u001b[38;5;66;03m# Evaluate the model\u001b[39;00m\n\u001b[1;32m----> 2\u001b[0m test_loss, test_metrics \u001b[38;5;241m=\u001b[39m \u001b[43mmodel\u001b[49m\u001b[38;5;241;43m.\u001b[39;49m\u001b[43mevaluate\u001b[49m\u001b[43m(\u001b[49m\n\u001b[0;32m      3\u001b[0m \u001b[43m    \u001b[49m\u001b[43mX_test\u001b[49m\u001b[43m,\u001b[49m\n\u001b[0;32m      4\u001b[0m \u001b[43m    \u001b[49m\u001b[43m{\u001b[49m\u001b[38;5;124;43m'\u001b[39;49m\u001b[38;5;124;43mboxes\u001b[39;49m\u001b[38;5;124;43m'\u001b[39;49m\u001b[43m:\u001b[49m\u001b[43m \u001b[49m\u001b[43my_test_boxes\u001b[49m\u001b[43m,\u001b[49m\u001b[43m \u001b[49m\u001b[38;5;124;43m'\u001b[39;49m\u001b[38;5;124;43mclass_ids\u001b[39;49m\u001b[38;5;124;43m'\u001b[39;49m\u001b[43m:\u001b[49m\u001b[43m \u001b[49m\u001b[43my_test_classes\u001b[49m\u001b[43m}\u001b[49m\n\u001b[0;32m      5\u001b[0m \u001b[43m)\u001b[49m\n\u001b[0;32m      7\u001b[0m \u001b[38;5;28mprint\u001b[39m(\u001b[38;5;124m\"\u001b[39m\u001b[38;5;124mTest Loss:\u001b[39m\u001b[38;5;124m\"\u001b[39m, test_loss)\n\u001b[0;32m      8\u001b[0m \u001b[38;5;28mprint\u001b[39m(\u001b[38;5;124m\"\u001b[39m\u001b[38;5;124mTest Metrics:\u001b[39m\u001b[38;5;124m\"\u001b[39m, test_metrics)\n",
      "File \u001b[1;32mc:\\Users\\sBTvR\\miniforge3\\envs\\ml\\lib\\site-packages\\keras\\src\\utils\\traceback_utils.py:122\u001b[0m, in \u001b[0;36mfilter_traceback.<locals>.error_handler\u001b[1;34m(*args, **kwargs)\u001b[0m\n\u001b[0;32m    119\u001b[0m     filtered_tb \u001b[38;5;241m=\u001b[39m _process_traceback_frames(e\u001b[38;5;241m.\u001b[39m__traceback__)\n\u001b[0;32m    120\u001b[0m     \u001b[38;5;66;03m# To get the full stack trace, call:\u001b[39;00m\n\u001b[0;32m    121\u001b[0m     \u001b[38;5;66;03m# `keras.config.disable_traceback_filtering()`\u001b[39;00m\n\u001b[1;32m--> 122\u001b[0m     \u001b[38;5;28;01mraise\u001b[39;00m e\u001b[38;5;241m.\u001b[39mwith_traceback(filtered_tb) \u001b[38;5;28;01mfrom\u001b[39;00m\u001b[38;5;250m \u001b[39m\u001b[38;5;28;01mNone\u001b[39;00m\n\u001b[0;32m    123\u001b[0m \u001b[38;5;28;01mfinally\u001b[39;00m:\n\u001b[0;32m    124\u001b[0m     \u001b[38;5;28;01mdel\u001b[39;00m filtered_tb\n",
      "File \u001b[1;32mc:\\Users\\sBTvR\\miniforge3\\envs\\ml\\lib\\site-packages\\keras\\src\\trainers\\data_adapters\\data_adapter_utils.py:115\u001b[0m, in \u001b[0;36mcheck_data_cardinality\u001b[1;34m(data)\u001b[0m\n\u001b[0;32m    111\u001b[0m     sizes \u001b[38;5;241m=\u001b[39m \u001b[38;5;124m\"\u001b[39m\u001b[38;5;124m, \u001b[39m\u001b[38;5;124m\"\u001b[39m\u001b[38;5;241m.\u001b[39mjoin(\n\u001b[0;32m    112\u001b[0m         \u001b[38;5;28mstr\u001b[39m(i\u001b[38;5;241m.\u001b[39mshape[\u001b[38;5;241m0\u001b[39m]) \u001b[38;5;28;01mfor\u001b[39;00m i \u001b[38;5;129;01min\u001b[39;00m tree\u001b[38;5;241m.\u001b[39mflatten(single_data)\n\u001b[0;32m    113\u001b[0m     )\n\u001b[0;32m    114\u001b[0m     msg \u001b[38;5;241m+\u001b[39m\u001b[38;5;241m=\u001b[39m \u001b[38;5;124mf\u001b[39m\u001b[38;5;124m\"\u001b[39m\u001b[38;5;124m'\u001b[39m\u001b[38;5;132;01m{\u001b[39;00mlabel\u001b[38;5;132;01m}\u001b[39;00m\u001b[38;5;124m'\u001b[39m\u001b[38;5;124m sizes: \u001b[39m\u001b[38;5;132;01m{\u001b[39;00msizes\u001b[38;5;132;01m}\u001b[39;00m\u001b[38;5;130;01m\\n\u001b[39;00m\u001b[38;5;124m\"\u001b[39m\n\u001b[1;32m--> 115\u001b[0m \u001b[38;5;28;01mraise\u001b[39;00m \u001b[38;5;167;01mValueError\u001b[39;00m(msg)\n",
      "\u001b[1;31mValueError\u001b[0m: Data cardinality is ambiguous. Make sure all arrays contain the same number of samples.'x' sizes: 55\n'y' sizes: 1, 0, 0, 1, 0, 0, 2, 2, 1, 0, 1, 1, 1, 0, 1, 0, 1, 1, 1, 1, 1, 2, 0, 1, 2, 1, 1, 1, 2, 1, 1, 1, 0, 1, 1, 1, 1, 1, 1, 1, 1, 2, 1, 0, 1, 1, 1, 1, 1, 1, 1, 2, 2, 1, 1, 1, 0, 0, 1, 0, 0, 2, 2, 1, 0, 1, 1, 1, 0, 1, 0, 1, 1, 1, 1, 1, 2, 0, 1, 2, 1, 1, 1, 2, 1, 1, 1, 0, 1, 1, 1, 1, 1, 1, 1, 1, 2, 1, 0, 1, 1, 1, 1, 1, 1, 1, 2, 2, 1, 1\n"
     ]
    }
   ],
   "source": [
    "# Pad the test labels\n",
    "y_test_boxes_padded, y_test_classes_padded = pad_labels(y_val)\n",
    "\n",
    "# Evaluate the model\n",
    "test_loss, test_metrics = model.evaluate(\n",
    "    X_test,\n",
    "    {'boxes': y_test_boxes_padded, 'class_ids': y_test_classes_padded}\n",
    ")\n",
    "\n",
    "print(\"Test Loss:\", test_loss)\n",
    "print(\"Test Metrics:\", test_metrics)"
   ]
  },
  {
   "cell_type": "code",
   "execution_count": null,
   "metadata": {},
   "outputs": [],
   "source": []
  }
 ],
 "metadata": {
  "kernelspec": {
   "display_name": "ml",
   "language": "python",
   "name": "python3"
  },
  "language_info": {
   "codemirror_mode": {
    "name": "ipython",
    "version": 3
   },
   "file_extension": ".py",
   "mimetype": "text/x-python",
   "name": "python",
   "nbconvert_exporter": "python",
   "pygments_lexer": "ipython3",
   "version": "3.10.18"
  }
 },
 "nbformat": 4,
 "nbformat_minor": 2
}
