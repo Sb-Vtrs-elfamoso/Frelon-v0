{
 "cells": [
  {
   "cell_type": "markdown",
   "id": "d0f990e4",
   "metadata": {},
   "source": [
    "# 01 — Dataset (Roboflow) ➜ Filtre *frelon* (COCO 1 classe)\n",
    "\n",
    "- Télécharge le dataset via **Roboflow** (COCO format).\n",
    "- Filtre les annotations pour ne garder que la classe **frelon**.\n",
    "- Sauvegarde des JSON COCO filtrés (train/valid/test)."
   ]
  },
  {
   "cell_type": "code",
   "execution_count": 1,
   "id": "5c298825",
   "metadata": {},
   "outputs": [
    {
     "name": "stdout",
     "output_type": "stream",
     "text": [
      "loading Roboflow workspace...\n",
      "loading Roboflow project...\n",
      "[Roboflow] Downloaded to: c:\\Users\\sBTvR\\Documents\\Projets techniques\\GitHub\\Frelon-v0\\notebooks\\hornet-bees-2\n"
     ]
    }
   ],
   "source": [
    "import os, json\n",
    "from pathlib import Path\n",
    "from roboflow import Roboflow\n",
    "\n",
    "\n",
    "rf = Roboflow(api_key=\"Z3PKQ49nKlyZJKJems0e\")\n",
    "project = rf.workspace(\"frelonproject\").project(\"hornet-bees-6bl4k\")\n",
    "version = project.version(2)\n",
    "dataset = version.download(\"coco\")\n",
    "download_path = Path(getattr(dataset, \"location\", str(dataset)))\n",
    "print(f\"[Roboflow] Downloaded to: {download_path}\")\n",
    "\n",
    "DATA_DIR = Path(dataset.location)\n",
    "TARGET = \"frelon\""
   ]
  },
  {
   "cell_type": "code",
   "execution_count": 2,
   "id": "19274c7e",
   "metadata": {},
   "outputs": [],
   "source": [
    "def filter_coco(coco_json_path, keep_class_name, out_json_path):\n",
    "    with open(coco_json_path, \"r\", encoding=\"utf-8\") as f:\n",
    "        coco = json.load(f)\n",
    "\n",
    "    name_to_id = {c[\"name\"]: c[\"id\"] for c in coco[\"categories\"]}\n",
    "    if keep_class_name not in name_to_id:\n",
    "        raise ValueError(f\"Classe '{keep_class_name}' absente de {coco_json_path}.\")\n",
    "\n",
    "    keep_id = name_to_id[keep_class_name]\n",
    "    anns = [a for a in coco[\"annotations\"] if a[\"category_id\"] == keep_id]\n",
    "    img_ids = {a[\"image_id\"] for a in anns}\n",
    "    imgs = [im for im in coco[\"images\"] if im[\"id\"] in img_ids]\n",
    "\n",
    "    # remap to single-class id=1\n",
    "    for a in anns: a[\"category_id\"] = 1\n",
    "    cats = [{\"id\":1,\"name\":keep_class_name,\"supercategory\":keep_class_name}]\n",
    "\n",
    "    out = {\"images\": imgs, \"annotations\": anns, \"categories\": cats}\n",
    "    with open(out_json_path, \"w\", encoding=\"utf-8\") as f:\n",
    "        json.dump(out, f, ensure_ascii=False)\n",
    "    return len(imgs), len(anns)"
   ]
  },
  {
   "cell_type": "code",
   "execution_count": 3,
   "id": "bad25f30",
   "metadata": {},
   "outputs": [
    {
     "name": "stdout",
     "output_type": "stream",
     "text": [
      "train: images=922, annots=1017, out=c:\\Users\\sBTvR\\Documents\\Projets techniques\\GitHub\\Frelon-v0\\notebooks\\hornet-bees-2\\train\\_annotations_frelon_single.coco.json\n",
      "valid: images=91, annots=95, out=c:\\Users\\sBTvR\\Documents\\Projets techniques\\GitHub\\Frelon-v0\\notebooks\\hornet-bees-2\\valid\\_annotations_frelon_single.coco.json\n",
      "test: images=45, annots=53, out=c:\\Users\\sBTvR\\Documents\\Projets techniques\\GitHub\\Frelon-v0\\notebooks\\hornet-bees-2\\test\\_annotations_frelon_single.coco.json\n"
     ]
    }
   ],
   "source": [
    "for split in [\"train\",\"valid\",\"test\"]:\n",
    "    ann = DATA_DIR / split / \"_annotations.coco.json\"\n",
    "    out = DATA_DIR / split / f\"_annotations_{TARGET}_single.coco.json\"\n",
    "    n_img, n_ann = filter_coco(ann, TARGET, out)\n",
    "    print(f\"{split}: images={n_img}, annots={n_ann}, out={out}\")"
   ]
  }
 ],
 "metadata": {
  "kernelspec": {
   "display_name": "ml",
   "language": "python",
   "name": "python3"
  },
  "language_info": {
   "codemirror_mode": {
    "name": "ipython",
    "version": 3
   },
   "file_extension": ".py",
   "mimetype": "text/x-python",
   "name": "python",
   "nbconvert_exporter": "python",
   "pygments_lexer": "ipython3",
   "version": "3.10.18"
  }
 },
 "nbformat": 4,
 "nbformat_minor": 5
}
