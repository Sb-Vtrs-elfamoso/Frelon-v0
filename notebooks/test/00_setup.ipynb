{
 "cells": [
  {
   "cell_type": "markdown",
   "id": "27024d01",
   "metadata": {},
   "source": [
    "# 00 — Setup simplifié\n",
    "\n",
    "Projet minimal pour **évaluer des modèles TFLite existants** (p. ex. ceux que tu as cités) sur la classe **frelon**.\n",
    "\n",
    "**Étapes :**\n",
    "1. Installer `requirements.txt` (dans ton terminal local).\n",
    "2. Ouvrir ce notebook pour vérifier les versions.\n",
    "3. Placer tes fichiers `.tflite` dans le dossier `models/` (voir cellule plus bas pour les noms attendus)."
   ]
  },
  {
   "cell_type": "code",
   "execution_count": null,
   "id": "8391e6dc",
   "metadata": {},
   "outputs": [],
   "source": [
    "import sys, platform, os, tensorflow as tf, numpy as np, cv2, PIL\n",
    "print(\"Python:\", sys.version.split()[0])\n",
    "print(\"Platform:\", platform.platform())\n",
    "print(\"TensorFlow:\", tf.__version__)\n",
    "print(\"Num GPUs:\", len(tf.config.list_physical_devices('GPU')))"
   ]
  },
  {
   "cell_type": "markdown",
   "id": "089e5d71",
   "metadata": {},
   "source": [
    "## Dossier des modèles"
   ]
  },
  {
   "cell_type": "code",
   "execution_count": null,
   "id": "b71ef8e7",
   "metadata": {},
   "outputs": [],
   "source": [
    "from pathlib import Path\n",
    "MODELS_DIR = Path(\"models\")\n",
    "MODELS_DIR.mkdir(parents=True, exist_ok=True)\n",
    "print(\"Placez vos fichiers TFLite ici:\", MODELS_DIR.resolve())\n",
    "\n",
    "# Noms attendus (modifiable) — renommez vos fichiers si nécessaire\n",
    "expected = {\n",
    "    \"ssd_mobilenet\": \"sd_mobilenet_v2_fpnlite_035_416_int8.tflite\",\n",
    "    \"tiny_yolo_nano\": \"t_yolo_x_nano_416_0.33_0.25_int8.tflite\",\n",
    "    \"yolov8n_quant\": \"olov8n_416_quant_pc_.tflite\"\n",
    "}\n",
    "for k,v in expected.items():\n",
    "    print(f\"{k}: {MODELS_DIR / v}\")"
   ]
  }
 ],
 "metadata": {
  "kernelspec": {
   "display_name": "Python 3",
   "language": "python",
   "name": "python3"
  }
 },
 "nbformat": 4,
 "nbformat_minor": 5
}
