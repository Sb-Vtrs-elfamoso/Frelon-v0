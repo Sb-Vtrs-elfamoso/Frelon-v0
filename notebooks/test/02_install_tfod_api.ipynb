{
 "cells": [
  {
   "cell_type": "markdown",
   "id": "ed1a71fe",
   "metadata": {},
   "source": [
    "# 02 — Installer la TensorFlow Object Detection API\n",
    "\n",
    "Ce notebook clone le repo `tensorflow/models`, installe les dépendances et compile les protos."
   ]
  },
  {
   "cell_type": "code",
   "execution_count": null,
   "id": "99c8aade",
   "metadata": {},
   "outputs": [],
   "source": [
    "import os, sys, subprocess, pathlib\n",
    "\n",
    "# 1) Cloner le repo (si pas déjà présent)\n",
    "# !git clone https://github.com/tensorflow/models.git\n",
    "\n",
    "# 2) Installer les dépendances de l'API\n",
    "# %cd models/research\n",
    "# !protoc object_detection/protos/*.proto --python_out=.\n",
    "\n",
    "# Installer l'API en mode editable\n",
    "# !pip install .\n",
    "# !pip install pycocotools\n",
    "\n",
    "# Tester l'installation\n",
    "# !python object_detection/builders/model_builder_tf2_test.py\n",
    "print(\"Reportez-vous aux sorties des cellules pour vérifier les éventuelles erreurs.\")"
   ]
  }
 ],
 "metadata": {
  "kernelspec": {
   "display_name": "Python 3",
   "language": "python",
   "name": "python3"
  }
 },
 "nbformat": 4,
 "nbformat_minor": 5
}
