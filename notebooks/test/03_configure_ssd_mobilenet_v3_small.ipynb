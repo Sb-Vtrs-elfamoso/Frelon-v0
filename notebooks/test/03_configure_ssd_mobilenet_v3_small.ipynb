{
 "cells": [
  {
   "cell_type": "markdown",
   "id": "8c3a5335",
   "metadata": {},
   "source": [
    "# 03 — Configurer **SSD MobileNet V3 Small** (1 classe : *frelon*)\n",
    "\n",
    "Nous allons utiliser un pipeline TFOD basé sur **SSD MobileNet V3 Small FPNLite 320x320** et l'adapter à **1 classe**."
   ]
  },
  {
   "cell_type": "markdown",
   "id": "e4bbed92",
   "metadata": {},
   "source": [
    "## 1) Téléchargement du checkpoint & du pipeline"
   ]
  },
  {
   "cell_type": "code",
   "execution_count": null,
   "id": "8767e16a",
   "metadata": {},
   "outputs": [],
   "source": [
    "import os\n",
    "\n",
    "# Répertoires\n",
    "PIPELINE_DIR = \"training\"\n",
    "os.makedirs(PIPELINE_DIR, exist_ok=True)\n",
    "\n",
    "# Téléchargez un modèle de base depuis le Model Zoo (ex. ssd_mobilenet_v3_small_fpnlite_320x320)\n",
    "# Lien: https://github.com/tensorflow/models/blob/master/research/object_detection/g3doc/tf2_detection_zoo.md\n",
    "# Exemple (à lancer dans un terminal si wget/curl):\n",
    "# !wget http://download.tensorflow.org/models/object_detection/tf2/20200711/ssd_mobilenet_v3_small_fpnlite_320x320_coco17_tpu-8.tar.gz\n",
    "# !tar -xvf ssd_mobilenet_v3_small_fpnlite_320x320_coco17_tpu-8.tar.gz -C {PIPELINE_DIR}\n",
    "print(\"Placez le dossier du modèle dézippé dans:\", os.path.abspath(PIPELINE_DIR))"
   ]
  },
  {
   "cell_type": "markdown",
   "id": "d9e253a5",
   "metadata": {},
   "source": [
    "## 2) Éditer le `pipeline.config` pour 1 classe"
   ]
  },
  {
   "cell_type": "code",
   "execution_count": null,
   "id": "275b4993",
   "metadata": {},
   "outputs": [],
   "source": [
    "from pathlib import Path\n",
    "import re\n",
    "\n",
    "# Indiquez ces chemins selon votre organisation\n",
    "PIPELINE_CONFIG_PATH = Path(PIPELINE_DIR) / \"ssd_mobilenet_v3_small_fpnlite_320x320_coco17_tpu-8\" / \"pipeline.config\"\n",
    "TF_RECORDS_DIR = \"data/tfrecords_single_class\"\n",
    "LABEL_MAP_PATH = \"data/label_map.pbtxt\"\n",
    "MODEL_DIR = \"checkpoints/ssd_mobilenet_v3_small_frelon\"\n",
    "\n",
    "os.makedirs(os.path.dirname(MODEL_DIR), exist_ok=True)\n",
    "\n",
    "# Créer un label_map à 1 classe\n",
    "label_map = \"\"\"\n",
    "item {\n",
    "  id: 1\n",
    "  name: \"frelon\"\n",
    "}\n",
    "\"\"\"\n",
    "os.makedirs(os.path.dirname(LABEL_MAP_PATH), exist_ok=True)\n",
    "with open(LABEL_MAP_PATH, \"w\", encoding=\"utf-8\") as f:\n",
    "    f.write(label_map.strip())\n",
    "\n",
    "print(\"LABEL_MAP_PATH créé:\", os.path.abspath(LABEL_MAP_PATH))\n",
    "\n",
    "# Helper: fonction simple pour remplacer des paramètres (si pipeline existe)\n",
    "def replace_in_file(path, patterns):\n",
    "    txt = Path(path).read_text(encoding=\"utf-8\")\n",
    "    for k,v in patterns.items():\n",
    "        txt = re.sub(k, v, txt)\n",
    "    Path(path).write_text(txt, encoding=\"utf-8\")\n",
    "\n",
    "if PIPELINE_CONFIG_PATH.exists():\n",
    "    print(\"Édition de:\", PIPELINE_CONFIG_PATH)\n",
    "    replacements = {\n",
    "        r\"num_classes: \\d+\": \"num_classes: 1\",\n",
    "        r\"fine_tune_checkpoint_type: \"classification\"\": \"fine_tune_checkpoint_type: \"detection\"\",\n",
    "    }\n",
    "    replace_in_file(PIPELINE_CONFIG_PATH, replacements)\n",
    "\n",
    "    # Injecter chemins (simplifié — vous pouvez aussi éditer manuellement le fichier)\n",
    "    pc = Path(PIPELINE_CONFIG_PATH).read_text(encoding=\"utf-8\")\n",
    "    pc = pc.replace(\"PATH_TO_BE_CONFIGURED/model.ckpt\", str(Path(PIPELINE_DIR)/\"ssd_mobilenet_v3_small_fpnlite_320x320_coco17_tpu-8\"/\"checkpoint\"/\"ckpt-0\"))\n",
    "    pc = pc.replace(\"PATH_TO_BE_CONFIGURED/label_map\", LABEL_MAP_PATH)\n",
    "    pc = pc.replace(\"PATH_TO_BE_CONFIGURED/train.record*\", str(Path(TF_RECORDS_DIR)/\"train-*.record\"))\n",
    "    pc = pc.replace(\"PATH_TO_BE_CONFIGURED/val.record*\",   str(Path(TF_RECORDS_DIR)/\"val-*.record\"))\n",
    "    Path(PIPELINE_CONFIG_PATH).write_text(pc, encoding=\"utf-8\")\n",
    "    print(\"Chemins mis à jour dans pipeline.config\")\n",
    "else:\n",
    "    print(\"⚠️ pipeline.config introuvable. Placez d'abord le modèle dans\", PIPELINE_DIR)"
   ]
  }
 ],
 "metadata": {
  "kernelspec": {
   "display_name": "Python 3",
   "language": "python",
   "name": "python3"
  }
 },
 "nbformat": 4,
 "nbformat_minor": 5
}
