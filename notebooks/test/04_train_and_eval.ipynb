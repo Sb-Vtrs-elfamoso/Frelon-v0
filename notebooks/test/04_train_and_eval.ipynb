{
 "cells": [
  {
   "cell_type": "markdown",
   "id": "06b8c921",
   "metadata": {},
   "source": [
    "# 04 — Entraîner & Évaluer\n",
    "\n",
    "Lancement de l'entraînement / évaluation avec `model_main_tf2.py`."
   ]
  },
  {
   "cell_type": "code",
   "execution_count": null,
   "id": "cd3c4937",
   "metadata": {},
   "outputs": [],
   "source": [
    "import os, sys, time\n",
    "\n",
    "TF_MODELS_DIR = \"models\"\n",
    "PIPELINE_CONFIG_PATH = \"training/ssd_mobilenet_v3_small_fpnlite_320x320_coco17_tpu-8/pipeline.config\"\n",
    "MODEL_DIR = \"checkpoints/ssd_mobilenet_v3_small_frelon\"\n",
    "\n",
    "print(\"Assurez-vous que:\")\n",
    "print(\" - TFRecords ont été générés (notebook 01).\")\n",
    "print(\" - TFOD API installée (notebook 02).\")\n",
    "print(\" - pipeline.config configuré (notebook 03).\")\n",
    "\n",
    "# Lancer l'entraînement (à exécuter dans un terminal ou via !python)\n",
    "print(f\"\"\"\n",
    "Commande d'entraînement (depuis la racine du projet):\n",
    "\n",
    "python {TF_MODELS_DIR}/research/object_detection/model_main_tf2.py \\\n",
    "  --pipeline_config_path={PIPELINE_CONFIG_PATH} \\\n",
    "  --model_dir={MODEL_DIR} \\\n",
    "  --alsologtostderr\n",
    "\"\"\")"
   ]
  },
  {
   "cell_type": "markdown",
   "id": "a7d8d183",
   "metadata": {},
   "source": [
    "## Évaluation pendant/à la fin de l'entraînement"
   ]
  },
  {
   "cell_type": "code",
   "execution_count": null,
   "id": "3cf4ff10",
   "metadata": {},
   "outputs": [],
   "source": [
    "# Évaluer (optionnel: en parallèle)\n",
    "TF_MODELS_DIR = \"models\"\n",
    "PIPELINE_CONFIG_PATH = \"training/ssd_mobilenet_v3_small_fpnlite_320x320_coco17_tpu-8/pipeline.config\"\n",
    "MODEL_DIR = \"checkpoints/ssd_mobilenet_v3_small_frelon\"\n",
    "\n",
    "print(f\"\"\"\n",
    "Commande d'évaluation:\n",
    "\n",
    "python {TF_MODELS_DIR}/research/object_detection/model_main_tf2.py \\\n",
    "  --pipeline_config_path={PIPELINE_CONFIG_PATH} \\\n",
    "  --model_dir={MODEL_DIR} \\\n",
    "  --checkpoint_dir={MODEL_DIR} \\\n",
    "  --alsologtostderr\n",
    "\"\"\")"
   ]
  }
 ],
 "metadata": {
  "kernelspec": {
   "display_name": "Python 3",
   "language": "python",
   "name": "python3"
  }
 },
 "nbformat": 4,
 "nbformat_minor": 5
}
