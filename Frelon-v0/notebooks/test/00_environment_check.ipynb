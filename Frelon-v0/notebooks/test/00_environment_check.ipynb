version https://git-lfs.github.com/spec/v1
oid sha256:24cc6e614100901dc277ed1cf2666fb547a1f7e7224059dee5e83b1cbe2cdedc
size 1625
