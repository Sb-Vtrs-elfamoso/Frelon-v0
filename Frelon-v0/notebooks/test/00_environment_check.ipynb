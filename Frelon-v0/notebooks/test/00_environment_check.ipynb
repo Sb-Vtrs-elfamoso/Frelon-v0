{
 "cells": [
  {
   "cell_type": "markdown",
   "id": "61de82a0",
   "metadata": {},
   "source": [
    "# 00 — Vérification de l'environnement\n",
    "\n",
    "Ce notebook installe/affiche les dépendances et vérifie que tout est OK pour l'entraînement."
   ]
  },
  {
   "cell_type": "code",
   "execution_count": null,
   "id": "27a0d36f",
   "metadata": {},
   "outputs": [],
   "source": [
    "# Si vous utilisez un nouvel environnement, activez d'abord ipywidgets (facultatif)\n",
    "# !jupyter nbextension enable --py widgetsnbextension\n",
    "\n",
    "import sys, platform, subprocess, os\n",
    "print(\"Python:\", sys.version)\n",
    "print(\"Platform:\", platform.platform())\n",
    "\n",
    "# Versions clés\n",
    "import tensorflow as tf\n",
    "import numpy as np, pandas as pd, cv2, PIL\n",
    "print(\"TensorFlow:\", tf.__version__)\n",
    "print(\"Num GPUs (TF):\", len(tf.config.list_physical_devices('GPU')))\n",
    "\n",
    "# Vérifier Roboflow\n",
    "try:\n",
    "    import roboflow\n",
    "    print(\"Roboflow:\", roboflow.__version__)\n",
    "except Exception as e:\n",
    "    print(\"Roboflow non disponible:\", e)"
   ]
  },
  {
   "cell_type": "code",
   "execution_count": null,
   "id": "d53a844f",
   "metadata": {},
   "outputs": [],
   "source": [
    "# Facultatif: installer les dépendances via pip depuis requirements.txt (si nécessaire)\n",
    "# !pip install -r requirements.txt"
   ]
  }
 ],
 "metadata": {
  "kernelspec": {
   "display_name": "Python 3",
   "language": "python",
   "name": "python3"
  }
 },
 "nbformat": 4,
 "nbformat_minor": 5
}
