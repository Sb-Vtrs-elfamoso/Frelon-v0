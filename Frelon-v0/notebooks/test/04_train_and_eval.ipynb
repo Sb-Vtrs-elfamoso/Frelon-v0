version https://git-lfs.github.com/spec/v1
oid sha256:264d4375165fef9c63c6ea374e3edb4e4c758d0bcc02e11fcf93e1b87e4e0107
size 2335
