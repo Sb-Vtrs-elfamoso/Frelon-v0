{
 "cells": [
  {
   "cell_type": "markdown",
   "metadata": {},
   "source": [
    "# Environment setup\n",
    "## À propos des notebooks\n",
    "\n",
    "Les notebooks sont des documents exécutables qui mêlent texte, code et résultats. Ils servent à documenter des expérience (mesure, simulation, traitement de signal), à exécuter le code pas à pas et à conserver la trace des hypothèses, paramètres et sorties — comme un cahier de labo… mais interactif.\n",
    "\n",
    "### Comment ça marche\n",
    "\n",
    "Deux composants :\n",
    "\n",
    "\n",
    "* une interface (ce fichier .ipynb que vous lisez),\n",
    "\n",
    "* un kernel (processus Python/Julia/… (ca peut être n'importe quel langage) qui exécute le code).\n",
    "L’interface envoie le contenu d’une cellule au kernel, qui exécute, renvoie la sortie (texte, figures) et garde l’état en mémoire.\n",
    "\n",
    "État mutable et ordre d’exécution : les variables, imports, connexions d’instruments, etc., persistent tant que le kernel tourne. **L’ordre des cellules compte. Pour un résultat fiable, utilisez Restart & Run All.**\n",
    "\n",
    "Types de cellules :\n",
    "\n",
    "* Code : exécution, affichage, I/O.\n",
    "\n",
    "* Markdown : explications, formules (LaTeX), schémas intégrés.\n",
    "\n",
    "Fichier : un .ipynb est du JSON qui stocke code, texte et sorties. On peut exporter en HTML/PDF, ou le convertir en script.\n",
    "\n",
    "## Select the correct environment to run your notebook\n",
    "\n",
    "After having followed REAME.md steps, having this notebook open in Visual Studio Code, select the right kernel :\n",
    "\n",
    "<img src=\"../src/images/select_kernel0.PNG\" alt=\"alt text\" width=\"600\"/>\n",
    "\n",
    "The first time, in the 1. area , the text is 'Select kernel'\n",
    "\n",
    "\n",
    "<img src=\"../src/images/select_kernel1.PNG\" alt=\"alt text\" width=\"600\"/>\n",
    "\n",
    "Now your kernel should be activated.\n",
    "\n",
    "## Verify that your environment works\n",
    "Verify that your environment is correctly set up by running following cells."
   ]
  },
  {
   "cell_type": "code",
   "execution_count": 1,
   "metadata": {},
   "outputs": [
    {
     "name": "stdout",
     "output_type": "stream",
     "text": [
      "Torch: 2.8.0+cpu\n",
      "ONNX: 1.17.0\n",
      "ONNXRuntime: 1.22.1\n",
      "TensorFlow: 2.19.1\n",
      "Ultralytics: 8.3.192\n",
      "OpenCV: 4.10.0\n",
      "Roboflow: 1.2.7\n"
     ]
    }
   ],
   "source": [
    "import torch, onnx, onnxruntime, tensorflow as tf, ultralytics, cv2, roboflow\n",
    "print(\"Torch:\", torch.__version__)\n",
    "print(\"ONNX:\", onnx.__version__)\n",
    "print(\"ONNXRuntime:\", onnxruntime.__version__)\n",
    "print(\"TensorFlow:\", tf.__version__)\n",
    "print(\"Ultralytics:\", ultralytics.__version__)\n",
    "print(\"OpenCV:\", cv2.__version__)\n",
    "print(\"Roboflow:\", roboflow.__version__)"
   ]
  },
  {
   "cell_type": "code",
   "execution_count": null,
   "metadata": {},
   "outputs": [],
   "source": []
  },
  {
   "cell_type": "markdown",
   "metadata": {},
   "source": []
  }
 ],
 "metadata": {
  "kernelspec": {
   "display_name": "ml",
   "language": "python",
   "name": "python3"
  },
  "language_info": {
   "codemirror_mode": {
    "name": "ipython",
    "version": 3
   },
   "file_extension": ".py",
   "mimetype": "text/x-python",
   "name": "python",
   "nbconvert_exporter": "python",
   "pygments_lexer": "ipython3",
   "version": "3.10.18"
  }
 },
 "nbformat": 4,
 "nbformat_minor": 2
}
