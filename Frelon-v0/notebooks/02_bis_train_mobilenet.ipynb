version https://git-lfs.github.com/spec/v1
oid sha256:173eea742cf842bbe671ca6cb6910546d0d7c74918d8d40a8b9d5efc8810b07d
size 11000
